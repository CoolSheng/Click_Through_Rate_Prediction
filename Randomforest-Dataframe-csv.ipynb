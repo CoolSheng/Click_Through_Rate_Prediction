{
 "cells": [
  {
   "cell_type": "code",
   "execution_count": 1,
   "metadata": {
    "collapsed": false
   },
   "outputs": [],
   "source": [
    "#source ~/.bashrc\n",
    "#http://localhost:4040/executors/   後台\n",
    "#pyspark --master local[*] --executor-memory 4G --driver-memory 2G --packages com.databricks:spark-csv_2.10:1.4.0\n",
    "#(加起來不要超過8  --executor-memory 2g   --driver-memory 2g 處理排程)\n",
    "#啟動pyspark指令：\n",
    "#pyspark --packages com.databricks:spark-csv_2.10:1.4.0\n",
    "#pyspark --packages com.databricks:spark-csv_2.10:1.4.0 --master local[*] --executor-memory 4G\n",
    "from pyspark.sql import SQLContext\n",
    "from pyspark.ml import Pipeline\n",
    "from pyspark.ml.classification import RandomForestClassifier\n",
    "from pyspark.ml.feature import StringIndexer, VectorIndexer\n",
    "from pyspark.ml.evaluation import MulticlassClassificationEvaluator\n",
    "from pyspark.sql.types import *\n",
    "from pyspark.ml.feature import RFormula\n",
    "\n",
    "from pyspark.ml.classification import LogisticRegression\n",
    "from pyspark.ml.param import Param, Params\n",
    "from pyspark.ml.feature import HashingTF, Tokenizer\n",
    "from pyspark.sql import Row\n",
    "from pyspark.mllib.classification import LogisticRegressionWithLBFGS\n",
    "from pyspark.ml.evaluation import BinaryClassificationEvaluator\n",
    "from pyspark.mllib.util import MLUtils\n",
    "\n",
    "from pyspark.mllib.linalg import Vectors\n",
    "from pyspark.ml.classification import LogisticRegression\n",
    "\n",
    "from pyspark.ml.tuning import *"
   ]
  },
  {
   "cell_type": "code",
   "execution_count": 2,
   "metadata": {
    "collapsed": false
   },
   "outputs": [],
   "source": [
    "from pyspark.sql import SQLContext\n",
    "from pyspark.sql.types import *\n",
    "\n",
    "# Load and parse the data file, converting it to a DataFrame.\n",
    "#data = sqlContext.read.format(\"com.databricks.spark.csv\").options(header='true', inferschema='true').load(\"/Users/sheng/Downloads/Click_Through_Rate_Prediction/train100000.csv\")\n",
    "data = sqlContext.read.format(\"com.databricks.spark.csv\").options(header='true', inferschema='true').load(\"/Users/sheng/Downloads/Click_Through_Rate_Prediction/train10000.csv\")\n",
    "#data = sqlContext.read.format(\"com.databricks.spark.csv\").options(header='true', inferschema='true').load(\"/Users/sheng/Downloads/Click_Through_Rate_Prediction/train.csv\")\n",
    "# Displays the content of the DataFrame to stdout\n",
    "#df.show()\n",
    "#data.show()"
   ]
  },
  {
   "cell_type": "code",
   "execution_count": 3,
   "metadata": {
    "collapsed": false
   },
   "outputs": [
    {
     "name": "stdout",
     "output_type": "stream",
     "text": [
      "root\n",
      " |-- id: double (nullable = true)\n",
      " |-- click: integer (nullable = true)\n",
      " |-- hour: integer (nullable = true)\n",
      " |-- C1: integer (nullable = true)\n",
      " |-- banner_pos: integer (nullable = true)\n",
      " |-- site_id: string (nullable = true)\n",
      " |-- site_domain: string (nullable = true)\n",
      " |-- site_category: string (nullable = true)\n",
      " |-- app_id: string (nullable = true)\n",
      " |-- app_domain: string (nullable = true)\n",
      " |-- app_category: string (nullable = true)\n",
      " |-- device_id: string (nullable = true)\n",
      " |-- device_ip: string (nullable = true)\n",
      " |-- device_model: string (nullable = true)\n",
      " |-- device_type: integer (nullable = true)\n",
      " |-- device_conn_type: integer (nullable = true)\n",
      " |-- C14: integer (nullable = true)\n",
      " |-- C15: integer (nullable = true)\n",
      " |-- C16: integer (nullable = true)\n",
      " |-- C17: integer (nullable = true)\n",
      " |-- C18: integer (nullable = true)\n",
      " |-- C19: integer (nullable = true)\n",
      " |-- C20: integer (nullable = true)\n",
      " |-- C21: integer (nullable = true)\n",
      "\n"
     ]
    }
   ],
   "source": [
    "# Print the schema in a tree format\n",
    "data.printSchema()"
   ]
  },
  {
   "cell_type": "code",
   "execution_count": 4,
   "metadata": {
    "collapsed": false
   },
   "outputs": [
    {
     "name": "stdout",
     "output_type": "stream",
     "text": [
      "+--------------------+-----+--------+----+----------+--------+-------------+\n",
      "|                  id|click|    hour|  C1|banner_pos| site_id|site_category|\n",
      "+--------------------+-----+--------+----+----------+--------+-------------+\n",
      "|1.000009418151094...|    0|14102100|1005|         0|1fbe01fe|     28905ebd|\n",
      "|1.000016934911786...|    0|14102100|1005|         0|1fbe01fe|     28905ebd|\n",
      "|1.000037190421512E19|    0|14102100|1005|         0|1fbe01fe|     28905ebd|\n",
      "|1.000064072448083...|    0|14102100|1005|         0|1fbe01fe|     28905ebd|\n",
      "|1.000067905641704...|    0|14102100|1005|         1|fe8cc448|     0569f928|\n",
      "|1.000072075780110...|    0|14102100|1005|         0|d6137915|     f028772b|\n",
      "|1.000072472998854...|    0|14102100|1005|         0|8fda644b|     f028772b|\n",
      "|1.000091875574232...|    0|14102100|1005|         1|e151e245|     f028772b|\n",
      "|1.000094927118603E19|    1|14102100|1005|         0|1fbe01fe|     28905ebd|\n",
      "|1.000126448061946...|    0|14102100|1002|         0|84c7ba46|     50e219e0|\n",
      "|1.000186833961659...|    0|14102100|1005|         1|e151e245|     f028772b|\n",
      "|1.000196679179352...|    0|14102100|1005|         0|1fbe01fe|     28905ebd|\n",
      "|1.000202856816734E19|    0|14102100|1005|         0|9e8cf15d|     f028772b|\n",
      "|1.000204488312087E19|    0|14102100|1005|         0|d6137915|     f028772b|\n",
      "|1.000251864903143...|    0|14102100|1005|         0|85f751fd|     50e219e0|\n",
      "|1.000353903923533...|    0|14102100|1005|         0|1fbe01fe|     28905ebd|\n",
      "|1.000358566947023...|    0|14102100|1005|         0|d9750ee7|     f028772b|\n",
      "|1.000410557508123E19|    0|14102100|1005|         0|1fbe01fe|     28905ebd|\n",
      "|1.000418142876772...|    0|14102100|1005|         1|0c2fe9d6|     28905ebd|\n",
      "|1.000448264331608...|    0|14102100|1005|         0|85f751fd|     50e219e0|\n",
      "+--------------------+-----+--------+----+----------+--------+-------------+\n",
      "only showing top 20 rows\n",
      "\n"
     ]
    }
   ],
   "source": [
    "# Select only the \"name\" column\n",
    "Schema = data.select(\"id\",\"click\",\"hour\",\"C1\",\"banner_pos\",\"site_id\",\"site_category\").show()"
   ]
  },
  {
   "cell_type": "code",
   "execution_count": 5,
   "metadata": {
    "collapsed": false
   },
   "outputs": [],
   "source": [
    "Schema = StructType([\n",
    "      StructField(\"id\", DoubleType(), True),\n",
    "      StructField(\"click\", DoubleType(), True),\n",
    "      StructField(\"hour\", StringType(), True),\n",
    "      StructField(\"C1\", DoubleType(), True),\n",
    "      StructField(\"banner_pos\", DoubleType(), True),\n",
    "      StructField(\"site_id\", StringType(), True),\n",
    "      StructField(\"site_domain\", StringType(), True),\n",
    "      StructField(\"site_category\", StringType(), True),\n",
    "      StructField(\"app_id\", StringType(), True),\n",
    "      StructField(\"app_domain\", StringType(), True),\n",
    "      StructField(\"app_category\", StringType(), True),\n",
    "      StructField(\"device_id\", StringType(), True),\n",
    "      StructField(\"device_ip\", StringType(), True),\n",
    "      StructField(\"device_model\", StringType(), True),\n",
    "      #StructField(\"device_type\", DoubleType(), True),\n",
    "      #StructField(\"device_conn_type\", DoubleType(), True),\n",
    "      #StructField(\"C14\", DoubleType(), True),\n",
    "      #StructField(\"C15\", DoubleType(), True),\n",
    "      #StructField(\"C16\", DoubleType(), True),\n",
    "      #StructField(\"C17\", DoubleType(), True),\n",
    "      #StructField(\"C18\", DoubleType(), True),\n",
    "      #StructField(\"C19\", DoubleType(), True),\n",
    "      #StructField(\"C20\", DoubleType(), True),\n",
    "      #StructField(\"C21\", DoubleType(), True)\n",
    "        \n",
    "      StructField(\"device_type\", StringType(), True),\n",
    "      StructField(\"device_conn_type\", StringType(), True),\n",
    "      StructField(\"C14\", DoubleType(), True),\n",
    "      StructField(\"C15\", DoubleType(), True),\n",
    "      StructField(\"C16\", DoubleType(), True),\n",
    "      StructField(\"C17\", DoubleType(), True),\n",
    "      StructField(\"C18\", DoubleType(), True),\n",
    "      StructField(\"C19\", DoubleType(), True),\n",
    "      StructField(\"C20\", DoubleType(), True),\n",
    "      StructField(\"C21\", DoubleType(), True)\n",
    "    ])"
   ]
  },
  {
   "cell_type": "code",
   "execution_count": 6,
   "metadata": {
    "collapsed": false
   },
   "outputs": [
    {
     "name": "stdout",
     "output_type": "stream",
     "text": [
      "StructType(List(StructField(id,DoubleType,true),StructField(click,DoubleType,true),StructField(hour,StringType,true),StructField(C1,DoubleType,true),StructField(banner_pos,DoubleType,true),StructField(site_id,StringType,true),StructField(site_domain,StringType,true),StructField(site_category,StringType,true),StructField(app_id,StringType,true),StructField(app_domain,StringType,true),StructField(app_category,StringType,true),StructField(device_id,StringType,true),StructField(device_ip,StringType,true),StructField(device_model,StringType,true),StructField(device_type,StringType,true),StructField(device_conn_type,StringType,true),StructField(C14,DoubleType,true),StructField(C15,DoubleType,true),StructField(C16,DoubleType,true),StructField(C17,DoubleType,true),StructField(C18,DoubleType,true),StructField(C19,DoubleType,true),StructField(C20,DoubleType,true),StructField(C21,DoubleType,true)))\n"
     ]
    }
   ],
   "source": [
    "#data.printSchema() #Data type doesn't change???? \n",
    "print Schema"
   ]
  },
  {
   "cell_type": "code",
   "execution_count": 7,
   "metadata": {
    "collapsed": false,
    "scrolled": true
   },
   "outputs": [
    {
     "name": "stdout",
     "output_type": "stream",
     "text": [
      "+--------------------+-----+--------+----+----------+--------+-----------+-------------+--------+----------+------------+---------+---------+------------+-----------+----------------+-----+---+---+----+---+---+------+---+-----+\n",
      "|                  id|click|    hour|  C1|banner_pos| site_id|site_domain|site_category|  app_id|app_domain|app_category|device_id|device_ip|device_model|device_type|device_conn_type|  C14|C15|C16| C17|C18|C19|   C20|C21|label|\n",
      "+--------------------+-----+--------+----+----------+--------+-----------+-------------+--------+----------+------------+---------+---------+------------+-----------+----------------+-----+---+---+----+---+---+------+---+-----+\n",
      "|1.000009418151094...|    0|14102100|1005|         0|1fbe01fe|   f3845767|     28905ebd|ecad2386|  7801e8d9|    07d7df22| a99f214a| ddd2926e|    44956a24|          1|               2|15706|320| 50|1722|  0| 35|    -1| 79|  0.0|\n",
      "|1.000016934911786...|    0|14102100|1005|         0|1fbe01fe|   f3845767|     28905ebd|ecad2386|  7801e8d9|    07d7df22| a99f214a| 96809ac8|    711ee120|          1|               0|15704|320| 50|1722|  0| 35|100084| 79|  0.0|\n",
      "|1.000037190421512E19|    0|14102100|1005|         0|1fbe01fe|   f3845767|     28905ebd|ecad2386|  7801e8d9|    07d7df22| a99f214a| b3cf8def|    8a4875bd|          1|               0|15704|320| 50|1722|  0| 35|100084| 79|  0.0|\n",
      "|1.000064072448083...|    0|14102100|1005|         0|1fbe01fe|   f3845767|     28905ebd|ecad2386|  7801e8d9|    07d7df22| a99f214a| e8275b8f|    6332421a|          1|               0|15706|320| 50|1722|  0| 35|100084| 79|  0.0|\n",
      "|1.000067905641704...|    0|14102100|1005|         1|fe8cc448|   9166c161|     0569f928|ecad2386|  7801e8d9|    07d7df22| a99f214a| 9644d0bf|    779d90c2|          1|               0|18993|320| 50|2161|  0| 35|    -1|157|  0.0|\n",
      "|1.000072075780110...|    0|14102100|1005|         0|d6137915|   bb1ef334|     f028772b|ecad2386|  7801e8d9|    07d7df22| a99f214a| 05241af0|    8a4875bd|          1|               0|16920|320| 50|1899|  0|431|100077|117|  0.0|\n",
      "|1.000072472998854...|    0|14102100|1005|         0|8fda644b|   25d4cfcd|     f028772b|ecad2386|  7801e8d9|    07d7df22| a99f214a| b264c159|    be6db1d7|          1|               0|20362|320| 50|2333|  0| 39|    -1|157|  0.0|\n",
      "|1.000091875574232...|    0|14102100|1005|         1|e151e245|   7e091613|     f028772b|ecad2386|  7801e8d9|    07d7df22| a99f214a| e6f67278|    be74e6fe|          1|               0|20632|320| 50|2374|  3| 39|    -1| 23|  0.0|\n",
      "|1.000094927118603E19|    1|14102100|1005|         0|1fbe01fe|   f3845767|     28905ebd|ecad2386|  7801e8d9|    07d7df22| a99f214a| 37e8da74|    5db079b5|          1|               2|15707|320| 50|1722|  0| 35|    -1| 79|  1.0|\n",
      "|1.000126448061946...|    0|14102100|1002|         0|84c7ba46|   c4e18dd6|     50e219e0|ecad2386|  7801e8d9|    07d7df22| c357dbff| f1ac7184|    373ecbe6|          0|               0|21689|320| 50|2496|  3|167|100191| 23|  0.0|\n",
      "|1.000186833961659...|    0|14102100|1005|         1|e151e245|   7e091613|     f028772b|ecad2386|  7801e8d9|    07d7df22| a99f214a| 5d877109|    8f5c9827|          1|               0|17747|320| 50|1974|  2| 39|100019| 33|  0.0|\n",
      "|1.000196679179352...|    0|14102100|1005|         0|1fbe01fe|   f3845767|     28905ebd|ecad2386|  7801e8d9|    07d7df22| a99f214a| 6f407810|    1f0bc64f|          1|               0|15701|320| 50|1722|  0| 35|    -1| 79|  0.0|\n",
      "|1.000202856816734E19|    0|14102100|1005|         0|9e8cf15d|   0d3cb7be|     f028772b|ecad2386|  7801e8d9|    07d7df22| a99f214a| 58811cdf|    8326c04b|          1|               2|20596|320| 50|2161|  0| 35|100148|157|  0.0|\n",
      "|1.000204488312087E19|    0|14102100|1005|         0|d6137915|   bb1ef334|     f028772b|ecad2386|  7801e8d9|    07d7df22| a99f214a| 72aab6df|    04258293|          1|               0|19771|320| 50|2227|  0|687|100077| 48|  0.0|\n",
      "|1.000251864903143...|    0|14102100|1005|         0|85f751fd|   c4e18dd6|     50e219e0|98fed791|  d9b5648e|    0f2161f8| a99f214a| 6dec2796|    aad45b01|          1|               0|20984|320| 50|2371|  0|551|    -1| 46|  0.0|\n",
      "|1.000353903923533...|    0|14102100|1005|         0|1fbe01fe|   f3845767|     28905ebd|ecad2386|  7801e8d9|    07d7df22| a99f214a| a4f47b2e|    8a4875bd|          1|               0|15699|320| 50|1722|  0| 35|100084| 79|  0.0|\n",
      "|1.000358566947023...|    0|14102100|1005|         0|d9750ee7|   98572c79|     f028772b|ecad2386|  7801e8d9|    07d7df22| a99f214a| 9b1fe278|    128f4ba1|          1|               0|17914|320| 50|2043|  2| 39|    -1| 32|  0.0|\n",
      "|1.000410557508123E19|    0|14102100|1005|         0|1fbe01fe|   f3845767|     28905ebd|ecad2386|  7801e8d9|    07d7df22| a99f214a| c26c53cf|    be87996b|          1|               2|15708|320| 50|1722|  0| 35|100084| 79|  0.0|\n",
      "|1.000418142876772...|    0|14102100|1005|         1|0c2fe9d6|   27e3c518|     28905ebd|ecad2386|  7801e8d9|    07d7df22| a99f214a| b7a69808|    158e4944|          1|               0| 6558|320| 50| 571|  2| 39|    -1| 32|  0.0|\n",
      "|1.000448264331608...|    0|14102100|1005|         0|85f751fd|   c4e18dd6|     50e219e0|66a5f0f3|  d9b5648e|    cef3e649| a99f214a| fa60af6b|    b4b19c97|          1|               0|21234|320| 50|2434|  3|163|100088| 61|  0.0|\n",
      "+--------------------+-----+--------+----+----------+--------+-----------+-------------+--------+----------+------------+---------+---------+------------+-----------+----------------+-----+---+---+----+---+---+------+---+-----+\n",
      "only showing top 20 rows\n",
      "\n"
     ]
    }
   ],
   "source": [
    "from pyspark.ml.feature import StringIndexer\n",
    "## Index labels, adding metadata to the label column.\n",
    "## Fit on whole dataset to include all labels in index.\n",
    "data = StringIndexer(inputCol=\"click\", outputCol=\"label\").fit(data).transform(data)\n",
    "data.show()\n",
    "## 可產生另一個檔案.transform(data)不一定要在（data）檔案裡\n",
    "#labelIndexer  ===> data"
   ]
  },
  {
   "cell_type": "code",
   "execution_count": 8,
   "metadata": {
    "collapsed": false
   },
   "outputs": [
    {
     "name": "stdout",
     "output_type": "stream",
     "text": [
      "+--------------------+-----+\n",
      "|            features|label|\n",
      "+--------------------+-----+\n",
      "|(2392,[1,704,719,...|  0.0|\n",
      "|(2392,[1,704,719,...|  0.0|\n",
      "|(2392,[1,704,719,...|  0.0|\n",
      "|(2392,[1,704,719,...|  0.0|\n",
      "|(2392,[0,1,710,73...|  0.0|\n",
      "|(2392,[1,706,742,...|  0.0|\n",
      "|(2392,[1,706,984,...|  0.0|\n",
      "|(2392,[0,1,706,72...|  0.0|\n",
      "|(2392,[1,704,719,...|  1.0|\n",
      "|(2392,[1,705,729,...|  0.0|\n",
      "|(2392,[0,1,706,72...|  0.0|\n",
      "|(2392,[1,704,719,...|  0.0|\n",
      "|(2392,[1,706,876,...|  0.0|\n",
      "|(2392,[1,706,742,...|  0.0|\n",
      "|(2392,[12,705,720...|  0.0|\n",
      "|(2392,[1,704,719,...|  0.0|\n",
      "|(2392,[1,706,722,...|  0.0|\n",
      "|(2392,[1,704,719,...|  0.0|\n",
      "|(2392,[0,1,704,76...|  0.0|\n",
      "|(2392,[178,705,72...|  0.0|\n",
      "+--------------------+-----+\n",
      "only showing top 20 rows\n",
      "\n"
     ]
    }
   ],
   "source": [
    "# RFormula\n",
    "from pyspark.ml.feature import RFormula\n",
    "## RFormula: string input colums will be one-hot encoded, and numeric columns will be cast to doubles.\n",
    "##特徵值要被修正formula\" \"\n",
    "formula = RFormula(\n",
    "    formula=\"label ~ banner_pos + app_id + site_category + site_id + site_domain + device_type + device_conn_type\",\n",
    "    #formula=\"label ~ banner_pos + app_id + site_category + site_id + site_domain + C14 + C17 + C18 + C19 + C21\", #0.707636\n",
    "    #formula=\"label ~ banner_pos + site_id + site_domain + C14 + C17 + C21\", #0.7\n",
    "    featuresCol=\"features\",\n",
    "    labelCol=\"label\")\n",
    "formula_data = formula.fit(data).transform(data)\n",
    "formula_data.select(\"features\",\"label\").show()"
   ]
  },
  {
   "cell_type": "code",
   "execution_count": 9,
   "metadata": {
    "collapsed": false,
    "scrolled": true
   },
   "outputs": [
    {
     "name": "stdout",
     "output_type": "stream",
     "text": [
      "+--------------------+-----+--------+----+----------+--------+-----------+-------------+--------+----------+------------+---------+---------+------------+-----------+----------------+-----+---+---+----+---+----+------+---+-----+--------------------+\n",
      "|                  id|click|    hour|  C1|banner_pos| site_id|site_domain|site_category|  app_id|app_domain|app_category|device_id|device_ip|device_model|device_type|device_conn_type|  C14|C15|C16| C17|C18| C19|   C20|C21|label|            features|\n",
      "+--------------------+-----+--------+----+----------+--------+-----------+-------------+--------+----------+------------+---------+---------+------------+-----------+----------------+-----+---+---+----+---+----+------+---+-----+--------------------+\n",
      "| 1.68962721406625E14|    0|14102100|1005|         1|856e6d3f|   58a89a43|     f028772b|ecad2386|  7801e8d9|    07d7df22| a99f214a| c654b5ac|    f39b265e|          1|               0|19772|320| 50|2227|  0| 687|100081| 48|  0.0|(2392,[0,1,706,73...|\n",
      "|1.175770906635967E15|    0|14102100|1005|         0|1fbe01fe|   f3845767|     28905ebd|ecad2386|  7801e8d9|    07d7df22| a99f214a| c6563308|    8a4875bd|          1|               0|15706|320| 50|1722|  0|  35|    -1| 79|  0.0|(2392,[1,704,719,...|\n",
      "|1.252004556985804E15|    0|14102100|1005|         1|d9750ee7|   98572c79|     f028772b|ecad2386|  7801e8d9|    07d7df22| a99f214a| cc0f7ebe|    0fadd2fe|          1|               0|17753|320| 50|1993|  2|1063|100084| 33|  0.0|(2392,[0,1,706,72...|\n",
      "|1.282357030009014E15|    0|14102100|1005|         0|1fbe01fe|   f3845767|     28905ebd|ecad2386|  7801e8d9|    07d7df22| a99f214a| c5d4672b|    301d587a|          1|               0|15708|320| 50|1722|  0|  35|    -1| 79|  0.0|(2392,[1,704,719,...|\n",
      "|1.004777456305499...|    1|14102100|1005|         0|85f751fd|   c4e18dd6|     50e219e0|89bdfe24|  2347f47a|    0f2161f8| a99f214a| c20a8177|    aa35da31|          1|               0|20346|300|250|2331|  2|  39|100060| 23|  1.0|(2392,[80,705,720...|\n",
      "|1.052060126220432...|    0|14102100|1005|         0|1fbe01fe|   f3845767|     28905ebd|ecad2386|  7801e8d9|    07d7df22| a99f214a| e6a00ba6|    158e4944|          1|               0|15701|320| 50|1722|  0|  35|100084| 79|  0.0|(2392,[1,704,719,...|\n",
      "|1.059788805884027...|    0|14102100|1005|         0|18859862|   b5188ae6|     f028772b|ecad2386|  7801e8d9|    07d7df22| a99f214a| 5964d959|    744ae245|          1|               0|20596|320| 50|2161|  0|  35|    -1|157|  0.0|(2392,[1,706,750,...|\n",
      "|1.133408032856951...|    0|14102100|1005|         0|1fbe01fe|   f3845767|     28905ebd|ecad2386|  7801e8d9|    07d7df22| a99f214a| 6a2201c4|    3bd9e8e7|          1|               0|15701|320| 50|1722|  0|  35|100084| 79|  0.0|(2392,[1,704,719,...|\n",
      "|1.165163647775773E16|    0|14102100|1005|         0|f282ab5a|   61eb5bc4|     f028772b|ecad2386|  7801e8d9|    07d7df22| a99f214a| fa08d534|    4ea23a13|          1|               0|18993|320| 50|2161|  0|  35|100210|157|  0.0|(2392,[1,706,728,...|\n",
      "|1.195737462335218...|    0|14102100|1005|         0|85f751fd|   c4e18dd6|     50e219e0|090d3a47|  0654b444|    0f2161f8| a99f214a| 440a1df9|    a8735f2a|          1|               0|20596|320| 50|2161|  0|  35|    -1|157|  0.0|(2392,[25,705,720...|\n",
      "|1.240602153915853...|    0|14102100|1005|         0|85f751fd|   c4e18dd6|     50e219e0|f5929c05|  2347f47a|    0f2161f8| a99f214a| 60380939|    1570029f|          1|               0| 1278|320| 50| 196|  3| 303|100126| 15|  0.0|(2392,[175,705,72...|\n",
      "|1.273848545083236E16|    0|14102100|1005|         0|85f751fd|   c4e18dd6|     50e219e0|c51f82bc|  d9b5648e|    0f2161f8| a99f214a| 2d227840|    9b5ce758|          1|               0|21611|320| 50|2480|  3| 297|100111| 61|  0.0|(2392,[35,705,720...|\n",
      "|1.278139186252791...|    0|14102100|1005|         0|1fbe01fe|   f3845767|     28905ebd|ecad2386|  7801e8d9|    07d7df22| a99f214a| b52d2dc6|    36d749e5|          1|               0|15708|320| 50|1722|  0|  35|    -1| 79|  0.0|(2392,[1,704,719,...|\n",
      "|1.303119548352325...|    0|14102100|1005|         0|543a539e|   c7ca3108|     3e814130|ecad2386|  7801e8d9|    07d7df22| a99f214a| 38f61ee1|    8d5a361f|          1|               0|20362|320| 50|2333|  0|  39|    -1|157|  0.0|(2392,[1,707,721,...|\n",
      "|1.317663005567352E16|    0|14102100|1005|         0|1fbe01fe|   f3845767|     28905ebd|ecad2386|  7801e8d9|    07d7df22| a99f214a| 34e4c662|    8a4875bd|          1|               0|15708|320| 50|1722|  0|  35|    -1| 79|  0.0|(2392,[1,704,719,...|\n",
      "|1.349653821208290...|    0|14102100|1005|         0|1fbe01fe|   f3845767|     28905ebd|ecad2386|  7801e8d9|    07d7df22| a99f214a| 980dfc1c|    76dc4769|          1|               0|15707|320| 50|1722|  0|  35|100084| 79|  0.0|(2392,[1,704,719,...|\n",
      "|1.371391607999055...|    0|14102100|1005|         0|1fbe01fe|   f3845767|     28905ebd|ecad2386|  7801e8d9|    07d7df22| a99f214a| 895eed0d|    8a4875bd|          1|               0|15707|320| 50|1722|  0|  35|    -1| 79|  0.0|(2392,[1,704,719,...|\n",
      "|1.462716273662558E16|    0|14102100|1005|         0|543a539e|   c7ca3108|     3e814130|ecad2386|  7801e8d9|    07d7df22| a99f214a| 4db484cd|    cdfde03b|          1|               0|20366|320| 50|2333|  0|  39|    -1|157|  0.0|(2392,[1,707,721,...|\n",
      "|1.466928435659200...|    1|14102100|1005|         0|1fbe01fe|   f3845767|     28905ebd|ecad2386|  7801e8d9|    07d7df22| a99f214a| b1da6641|    a5bce124|          1|               0|15705|320| 50|1722|  0|  35|    -1| 79|  1.0|(2392,[1,704,719,...|\n",
      "|1.507189203751606E16|    0|14102100|1005|         0|85f751fd|   c4e18dd6|     50e219e0|21abb96c|  2347f47a|    fc6fa53d| e10183a3| 80e2134e|    43836a96|          1|               0|  375|320| 50| 112|  3|1319|    -1| 15|  0.0|(2392,[118,705,72...|\n",
      "+--------------------+-----+--------+----+----------+--------+-----------+-------------+--------+----------+------------+---------+---------+------------+-----------+----------------+-----+---+---+----+---+----+------+---+-----+--------------------+\n",
      "only showing top 20 rows\n",
      "\n"
     ]
    }
   ],
   "source": [
    "# Split the data into training and test sets (30% held out for testing)\n",
    "#已經有了！\n",
    "# Split training and test data.\n",
    "(training, test) = formula_data.randomSplit([0.7, 0.3], seed = 12345) #what's seed\n",
    "training.show()\n"
   ]
  },
  {
   "cell_type": "code",
   "execution_count": 10,
   "metadata": {
    "collapsed": false
   },
   "outputs": [],
   "source": [
    "# Configure an ML pipeline, which consists of three stages: tokenizer, hashingTF, and rf (random forest).\n",
    "# Train a RandomForest model.\n",
    "#rf = RandomForestClassifier(labelCol=\"label\", featuresCol=\"features\")\n",
    "\n",
    "# Chain indexers and forest in a Pipeline\n",
    "# stages=[labelIndexer, featureIndexer, rf]這部分在In[14]做完了所以只要處理rf\n",
    "#pipeline = Pipeline(stages=[rf])"
   ]
  },
  {
   "cell_type": "code",
   "execution_count": 11,
   "metadata": {
    "collapsed": false,
    "scrolled": false
   },
   "outputs": [
    {
     "name": "stdout",
     "output_type": "stream",
     "text": [
      "+----------+-----+--------------------+\n",
      "|prediction|label|            features|\n",
      "+----------+-----+--------------------+\n",
      "|       0.0|  0.0|(2392,[0,1,706,73...|\n",
      "|       0.0|  0.0|(2392,[1,704,719,...|\n",
      "|       0.0|  0.0|(2392,[0,1,706,72...|\n",
      "|       0.0|  0.0|(2392,[1,704,719,...|\n",
      "|       0.0|  1.0|(2392,[80,705,720...|\n",
      "|       0.0|  0.0|(2392,[1,704,719,...|\n",
      "|       0.0|  0.0|(2392,[1,706,750,...|\n",
      "|       0.0|  0.0|(2392,[1,704,719,...|\n",
      "|       0.0|  0.0|(2392,[1,706,728,...|\n",
      "|       0.0|  0.0|(2392,[25,705,720...|\n",
      "|       0.0|  0.0|(2392,[175,705,72...|\n",
      "|       0.0|  0.0|(2392,[35,705,720...|\n",
      "|       0.0|  0.0|(2392,[1,704,719,...|\n",
      "|       0.0|  0.0|(2392,[1,707,721,...|\n",
      "|       0.0|  0.0|(2392,[1,704,719,...|\n",
      "|       0.0|  0.0|(2392,[1,704,719,...|\n",
      "|       0.0|  0.0|(2392,[1,704,719,...|\n",
      "|       0.0|  0.0|(2392,[1,707,721,...|\n",
      "|       0.0|  1.0|(2392,[1,704,719,...|\n",
      "|       0.0|  0.0|(2392,[118,705,72...|\n",
      "+----------+-----+--------------------+\n",
      "only showing top 20 rows\n",
      "\n"
     ]
    }
   ],
   "source": [
    "from pyspark.ml.classification import LogisticRegression\n",
    "from pyspark.ml.param import Param, Params\n",
    "from pyspark.ml.feature import HashingTF, Tokenizer\n",
    "from pyspark.sql import Row\n",
    "from pyspark.ml import Pipeline\n",
    "from pyspark.ml.classification import RandomForestClassifier\n",
    "from pyspark.ml.feature import StringIndexer, VectorIndexer\n",
    "from pyspark.mllib.classification import LogisticRegressionWithLBFGS\n",
    "from pyspark.ml.evaluation import BinaryClassificationEvaluator\n",
    "from pyspark.mllib.util import MLUtils\n",
    "#===========#what does it mean from here\n",
    "# Configure an ML pipeline, which consists of three stages: tokenizer, hashingTF, and rf (random forest).\n",
    "#rf = RandomForestClassifier().setMaxBins(70)\n",
    "rf = RandomForestClassifier(numTrees=100, maxDepth=20, labelCol=\"label\") #maxDepth=20, maxBins=64, \n",
    "\n",
    "pipeline = Pipeline(stages=[rf])\n",
    "pipelineModel = pipeline.fit(training)\n",
    "trainingPredictions = pipelineModel.transform(training)\n",
    "#trainingPredictions.show()\n",
    "trainingPredictions.select(\"prediction\", \"label\", \"features\").show()\n",
    "testPredictions = pipelineModel.transform(test)"
   ]
  },
  {
   "cell_type": "code",
   "execution_count": 12,
   "metadata": {
    "collapsed": false
   },
   "outputs": [],
   "source": [
    "#evaluator = MulticlassClassificationEvaluator(\n",
    "#labelCol=\"label\", predictionCol=\"prediction\", metricName=\"precision\")\n",
    "evaluator = BinaryClassificationEvaluator()"
   ]
  },
  {
   "cell_type": "code",
   "execution_count": 13,
   "metadata": {
    "collapsed": false
   },
   "outputs": [
    {
     "name": "stdout",
     "output_type": "stream",
     "text": [
      "pipeline Test AUC: 0.705155\n"
     ]
    }
   ],
   "source": [
    "from pyspark.mllib.linalg import Vectors\n",
    "from pyspark.ml.classification import LogisticRegression\n",
    "from pyspark.ml.param import Param, Params\n",
    "\n",
    "evaluatorParaMap = {evaluator.metricName: \"areaUnderROC\"}\n",
    "aucTraining = evaluator.evaluate(trainingPredictions, evaluatorParaMap)\n",
    "aucTest = evaluator.evaluate(testPredictions, evaluatorParaMap)\n",
    "\n",
    "print(\"pipeline Test AUC: %g\" % aucTest)"
   ]
  },
  {
   "cell_type": "code",
   "execution_count": 14,
   "metadata": {
    "collapsed": false
   },
   "outputs": [
    {
     "name": "stdout",
     "output_type": "stream",
     "text": [
      "+--------------------+-----+--------+----+----------+--------+-----------+-------------+--------+----------+------------+---------+---------+------------+-----------+----------------+-----+---+---+----+---+---+------+---+-----+--------------------+--------------------+--------------------+----------+\n",
      "|                  id|click|    hour|  C1|banner_pos| site_id|site_domain|site_category|  app_id|app_domain|app_category|device_id|device_ip|device_model|device_type|device_conn_type|  C14|C15|C16| C17|C18|C19|   C20|C21|label|            features|       rawPrediction|         probability|prediction|\n",
      "+--------------------+-----+--------+----+----------+--------+-----------+-------------+--------+----------+------------+---------+---------+------------+-----------+----------------+-----+---+---+----+---+---+------+---+-----+--------------------+--------------------+--------------------+----------+\n",
      "|1.397765130287882E15|    0|14102100|1005|         0|1fbe01fe|   f3845767|     28905ebd|ecad2386|  7801e8d9|    07d7df22| a99f214a| 1ac9f16c|    24f6b932|          1|               0|15699|320| 50|1722|  0| 35|100084| 79|  0.0|(2392,[1,704,719,...|[79.9919405893041...|[0.79991940589304...|       0.0|\n",
      "|1.634362683925498E15|    0|14102100|1005|         0|1fbe01fe|   f3845767|     28905ebd|ecad2386|  7801e8d9|    07d7df22| a99f214a| 0ffd9780|    9dcb1cd1|          1|               0|15706|320| 50|1722|  0| 35|100084| 79|  0.0|(2392,[1,704,719,...|[79.9919405893041...|[0.79991940589304...|       0.0|\n",
      "|1.018523098462215...|    0|14102100|1005|         0|1fbe01fe|   f3845767|     28905ebd|ecad2386|  7801e8d9|    07d7df22| a99f214a| 484deefa|    375c3d47|          1|               0|15705|320| 50|1722|  0| 35|100084| 79|  0.0|(2392,[1,704,719,...|[79.9919405893041...|[0.79991940589304...|       0.0|\n",
      "|1.039452588906425...|    0|14102100|1005|         0|1fbe01fe|   f3845767|     28905ebd|ecad2386|  7801e8d9|    07d7df22| a99f214a| 884297d2|    0eb711ec|          1|               0|15704|320| 50|1722|  0| 35|    -1| 79|  0.0|(2392,[1,704,719,...|[79.9919405893041...|[0.79991940589304...|       0.0|\n",
      "|1.255386939743697...|    0|14102100|1010|         1|85f751fd|   c4e18dd6|     50e219e0|c7f29df3|  7801e8d9|    0f2161f8| 24f71b35| c0c0fa94|    f07e20f8|          4|               0|21665|320| 50|2493|  3| 35|    -1|117|  0.0|(2392,[0,14,705,7...|[92.3229886026396...|[0.92322988602639...|       0.0|\n",
      "|1.265105042024532...|    0|14102100|1005|         0|543a539e|   c7ca3108|     3e814130|ecad2386|  7801e8d9|    07d7df22| a99f214a| 5f622168|    cdfde03b|          1|               0|20366|320| 50|2333|  0| 39|    -1|157|  0.0|(2392,[1,707,721,...|[92.2116118151237...|[0.92211611815123...|       0.0|\n",
      "|1.270642347104247...|    0|14102100|1005|         0|85f751fd|   c4e18dd6|     50e219e0|3c4b944d|  2347f47a|    0f2161f8| 9000f98c| 1d7bcb0a|    84eb6b0e|          1|               0|20751|320| 50|1895|  0|681|100028|101|  0.0|(2392,[52,705,720...|[86.1688592073470...|[0.86168859207347...|       0.0|\n",
      "|1.280174890695808...|    0|14102100|1005|         0|85f751fd|   c4e18dd6|     50e219e0|febd1138|  82e27996|    0f2161f8| a99f214a| 9cb84b99|    3eb8d368|          1|               0|20508|320| 50|2351|  3|163|100020| 61|  0.0|(2392,[2,705,720,...|[91.1749095996114...|[0.91174909599611...|       0.0|\n",
      "|1.343579789644448...|    1|14102100|1005|         0|1fbe01fe|   f3845767|     28905ebd|ecad2386|  7801e8d9|    07d7df22| a99f214a| 0fb242f2|    a0f5f879|          1|               0|15702|320| 50|1722|  0| 35|    -1| 79|  1.0|(2392,[1,704,719,...|[79.9919405893041...|[0.79991940589304...|       0.0|\n",
      "|1.621368915618469...|    0|14102100|1005|         0|85f751fd|   c4e18dd6|     50e219e0|febd1138|  82e27996|    0f2161f8| a99f214a| c21bac5a|    9b5ce758|          1|               0|21611|320| 50|2480|  3|297|100111| 61|  0.0|(2392,[2,705,720,...|[91.1749095996114...|[0.91174909599611...|       0.0|\n",
      "|1.005978707662801...|    0|14102100|1005|         0|1fbe01fe|   f3845767|     28905ebd|ecad2386|  7801e8d9|    07d7df22| a99f214a| f54a3f26|    d787e91b|          1|               0|15701|320| 50|1722|  0| 35|100084| 79|  0.0|(2392,[1,704,719,...|[79.9919405893041...|[0.79991940589304...|       0.0|\n",
      "|1.006726569159575...|    0|14102100|1005|         0|f282ab5a|   61eb5bc4|     f028772b|ecad2386|  7801e8d9|    07d7df22| a99f214a| 95281397|    8a4875bd|          1|               0|18993|320| 50|2161|  0| 35|100210|157|  0.0|(2392,[1,706,728,...|[93.0657519397712...|[0.93065751939771...|       0.0|\n",
      "|1.029512486205703...|    0|14102100|1005|         0|85f751fd|   c4e18dd6|     50e219e0|be7c618d|  2347f47a|    f95efa07| f5d67f93| b254c015|    4ea23a13|          1|               2| 1276|320| 50| 196|  3|303|    -1| 15|  0.0|(2392,[21,705,720...|[89.0546785864494...|[0.89054678586449...|       0.0|\n",
      "|1.030180711408167...|    1|14102100|1005|         0|f9c69707|   e16ceb4b|     28905ebd|ecad2386|  7801e8d9|    07d7df22| a99f214a| 3827a7e1|    1f0bc64f|          1|               0|19666|300|250|2253|  2|303|    -1| 52|  1.0|(2392,[1,704,735,...|[60.2759596583534...|[0.60275959658353...|       0.0|\n",
      "|1.033630331624195...|    0|14102100|1005|         0|85f751fd|   c4e18dd6|     50e219e0|febd1138|  82e27996|    0f2161f8| a99f214a| 1cfb6873|    99e427c9|          1|               0|21611|320| 50|2480|  3|297|100111| 61|  0.0|(2392,[2,705,720,...|[91.1749095996114...|[0.91174909599611...|       0.0|\n",
      "|1.048607896219575...|    1|14102100|1002|         0|aa0b6551|   c4e18dd6|     50e219e0|ecad2386|  7801e8d9|    07d7df22| e651d9de| 51b84f48|    54e3adb5|          0|               0|12008|320| 50|1248|  2| 39|100148| 13|  1.0|(2392,[1,705,1332...|[81.3620434347626...|[0.81362043434762...|       0.0|\n",
      "|1.050317799131910...|    0|14102100|1005|         0|1fbe01fe|   f3845767|     28905ebd|ecad2386|  7801e8d9|    07d7df22| a99f214a| fd281b60|    8a4875bd|          1|               0|15701|320| 50|1722|  0| 35|    -1| 79|  0.0|(2392,[1,704,719,...|[79.9919405893041...|[0.79991940589304...|       0.0|\n",
      "|1.051898380569256...|    1|14102100|1005|         1|e151e245|   7e091613|     f028772b|ecad2386|  7801e8d9|    07d7df22| a99f214a| 6a331ab7|    99e138b7|          1|               0|20362|320| 50|2333|  0| 39|    -1|157|  1.0|(2392,[0,1,706,72...|[74.7416466923039...|[0.74741646692303...|       0.0|\n",
      "|1.053180304554195...|    0|14102100|1002|         0|75f43c5a|   c4e18dd6|     50e219e0|ecad2386|  7801e8d9|    07d7df22| 05f75302| 6153415d|    c978d6f5|          0|               0|21665|320| 50|2493|  3| 35|    -1|117|  0.0|(2392,[1,705,758,...|[82.9216233180782...|[0.82921623318078...|       0.0|\n",
      "|1.055491391743157...|    0|14102100|1005|         0|1fbe01fe|   f3845767|     28905ebd|ecad2386|  7801e8d9|    07d7df22| a99f214a| ca645e10|    711ee120|          1|               0|15705|320| 50|1722|  0| 35|100084| 79|  0.0|(2392,[1,704,719,...|[79.9919405893041...|[0.79991940589304...|       0.0|\n",
      "+--------------------+-----+--------+----+----------+--------+-----------+-------------+--------+----------+------------+---------+---------+------------+-----------+----------------+-----+---+---+----+---+---+------+---+-----+--------------------+--------------------+--------------------+----------+\n",
      "only showing top 20 rows\n",
      "\n",
      "pipeline Test AUC: 0.705155\n",
      "Cross-Validation test AUC: 0.711658\n"
     ]
    }
   ],
   "source": [
    "from pyspark.ml.tuning import *\n",
    "# The multiplies out to (2 x 3 x 3) x 10 = 180 different models being trained.\n",
    "# k = 3 and k = 10 are common\n",
    "#from pyspark.ml.tuning import *\n",
    "#paramGrid = ParamGridBuilder().addGrid(rf.impurity, ['entropy', 'gini']).addGrid(rf.numTrees, [30, 50, 100]).build() #[10, 50, 100]高 50\n",
    "paramGrid = ParamGridBuilder().addGrid(rf.maxDepth, [10,20,30]).addGrid(rf.impurity, ['entropy', 'gini']).addGrid(rf.numTrees, [30, 50, 100]).build()\n",
    "#(rf.maxDepth, [10,20,30])\n",
    "#println(paramGrid(1))\n",
    "\n",
    "#=============#以上未做cv 以下做cv\n",
    "cv = CrossValidator().setEstimator(pipeline).setEvaluator(evaluator).setEstimatorParamMaps(paramGrid).setNumFolds(3) #setNumFolds(3)\n",
    "# Run cross-validation, and choose the best set of parameters.\n",
    "cvModel = cv.fit(training)\n",
    "cvPredictions = cvModel.transform(test)\n",
    "cvAUCTest = evaluator.evaluate(cvPredictions, evaluatorParaMap)\n",
    "cvPredictions.show()\n",
    "\n",
    "#println(\"pipeline Training AUC: \" + aucTraining)\n",
    "print(\"pipeline Test AUC: %g\" % aucTest)\n",
    "print(\"Cross-Validation test AUC: %g\" % cvAUCTest)"
   ]
  }
 ],
 "metadata": {
  "kernelspec": {
   "display_name": "Python 2",
   "language": "python",
   "name": "python2"
  },
  "language_info": {
   "codemirror_mode": {
    "name": "ipython",
    "version": 2
   },
   "file_extension": ".py",
   "mimetype": "text/x-python",
   "name": "python",
   "nbconvert_exporter": "python",
   "pygments_lexer": "ipython2",
   "version": "2.7.12"
  }
 },
 "nbformat": 4,
 "nbformat_minor": 0
}
